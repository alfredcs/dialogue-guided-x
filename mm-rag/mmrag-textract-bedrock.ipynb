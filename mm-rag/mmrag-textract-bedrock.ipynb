{
 "cells": [
  {
   "cell_type": "markdown",
   "id": "6a985a3b-2d52-42d1-96b9-59bb29401b14",
   "metadata": {},
   "source": [
    "# Multi-modal RAG using AMamzon Bedrock\n",
    "\n",
    "Process document with text, tables and images\n",
    "\n",
    "1. Extract tables and images from pdf documents\n",
    "2. Call LLM to summerize each table content by looping all rows\n",
    "3. Call VLM to generate text summery for each and every image in the document\n",
    "4. Vectorize the table summaries and store vectors in the vectorDB\n",
    "5. Vectorize the image summeries and store output vector in the same vectorDB\n",
    "6. Store table raw data as json in thedocStore\n",
    "7. Store images as files (i.e. .jpg) in the docStore\n",
    "8. Dialogue guided retrivals and generations using chat or Q&A\n",
    "9. Also dialogue guided output control incluidng multi-modal display"
   ]
  },
  {
   "cell_type": "code",
   "execution_count": null,
   "id": "b2f6f320-38db-4771-b26e-d87238a07a2b",
   "metadata": {},
   "outputs": [],
   "source": [
    "!pip install "
   ]
  }
 ],
 "metadata": {
  "kernelspec": {
   "display_name": "dui",
   "language": "python",
   "name": "dui"
  },
  "language_info": {
   "codemirror_mode": {
    "name": "ipython",
    "version": 3
   },
   "file_extension": ".py",
   "mimetype": "text/x-python",
   "name": "python",
   "nbconvert_exporter": "python",
   "pygments_lexer": "ipython3",
   "version": "3.11.4"
  }
 },
 "nbformat": 4,
 "nbformat_minor": 5
}

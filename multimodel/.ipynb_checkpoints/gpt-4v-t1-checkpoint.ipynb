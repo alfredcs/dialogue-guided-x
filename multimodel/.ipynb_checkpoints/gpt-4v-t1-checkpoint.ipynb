{
 "cells": [
  {
   "cell_type": "code",
   "execution_count": 17,
   "id": "a25170df-2b9d-402c-aeea-68e290fbf526",
   "metadata": {},
   "outputs": [],
   "source": [
    "from openai import OpenAI\n",
    "import os\n",
    "from PIL import Image\n",
    "import base64\n",
    "from io import BytesIO\n",
    "api_key=os.getenv('openai_api_token')\n",
    "\n",
    "client = OpenAI()\n",
    "def convert_image_to_base64(image_path):\n",
    "    with Image.open(image_path) as image:\n",
    "        # Convert image to RGB\n",
    "        rgb_image = image.convert('RGB')\n",
    "        # Create a BytesIO object to hold the image data\n",
    "        buffered = BytesIO()\n",
    "        # Save the image to the BytesIO object in JPEG format\n",
    "        rgb_image.save(buffered, format=\"JPEG\")\n",
    "        # Get the byte data from the BytesIO object\n",
    "        image_byte_data = buffered.getvalue()\n",
    "        # Encode the byte data in base64\n",
    "        base64_encoded_image = base64.b64encode(image_byte_data)\n",
    "        # Convert the base64 bytes to string\n",
    "        return base64_encoded_image.decode()\n",
    "\n",
    "def image_encode(image_path):\n",
    "    with open(image_path, \"rb\") as image_file:\n",
    "        #encoded_string = base64.b64encode(image_file.read())\n",
    "        return base64.b64encode(image_file.read()).decode('utf-8')\n",
    "\n",
    "\n",
    "image_path = \"./gpt-4v-demos/test_images/soup_can.jpg\""
   ]
  },
  {
   "cell_type": "code",
   "execution_count": 18,
   "id": "30b379cd-1154-4aa9-b700-f73f04c1470d",
   "metadata": {},
   "outputs": [
    {
     "name": "stdout",
     "output_type": "stream",
     "text": [
      "Choice(finish_reason='stop', index=0, logprobs=None, message=ChatCompletionMessage(content='This image features a wooden boardwalk stretching through a lush green meadow. The meadow is dense with tall grasses, and the vegetation extends into the distance with a variety of shrubs and trees scattering the horizon. Above, the sky is painted with a soft palette of blues and a few patches of white clouds, suggesting a calm, sunny day. The boardwalk provides a pathway inviting one to explore the natural setting while protecting the ground underneath from being trampled, often used in ecologically sensitive areas to prevent erosion and disturbance to plant life.', role='assistant', function_call=None, tool_calls=None))\n"
     ]
    }
   ],
   "source": [
    "response = client.chat.completions.create(\n",
    "  model=\"gpt-4-vision-preview\",\n",
    "  messages=[\n",
    "    {\n",
    "      \"role\": \"user\",\n",
    "      \"content\": [\n",
    "        {\"type\": \"text\", \"text\": \"What’s in this image?\"},\n",
    "        {\n",
    "          \"type\": \"image_url\",\n",
    "          \"image_url\": {\n",
    "            #\"url\": {\"url\": f\"data:image/jpeg;base64,{image_encode(image_path)}\"},\n",
    "            \"detail\": \"high\",\n",
    "            \"url\": \"https://upload.wikimedia.org/wikipedia/commons/thumb/d/dd/Gfp-wisconsin-madison-the-nature-boardwalk.jpg/2560px-Gfp-wisconsin-madison-the-nature-boardwalk.jpg\",\n",
    "          },\n",
    "        },\n",
    "      ],\n",
    "    }\n",
    "  ],\n",
    "  max_tokens=300,\n",
    ")\n",
    "\n",
    "print(response.choices[0])"
   ]
  },
  {
   "cell_type": "code",
   "execution_count": 19,
   "id": "4673fbe0-83a4-4ceb-9b7d-6238a61014d0",
   "metadata": {},
   "outputs": [
    {
     "name": "stdout",
     "output_type": "stream",
     "text": [
      "{'id': 'chatcmpl-8ci808rwVAw7piCjgRsX630YGaJQ0', 'object': 'chat.completion', 'created': 1704236784, 'model': 'gpt-4-1106-vision-preview', 'usage': {'prompt_tokens': 778, 'completion_tokens': 40, 'total_tokens': 818}, 'choices': [{'message': {'role': 'assistant', 'content': \"The image shows a can of Campbell's Tomato Soup. It is labeled as condensed soup, and we can see some nutritional information and a medal indicating an award from an international exposition dated 1900.\\n\"}, 'finish_reason': 'stop', 'index': 0}]}\n"
     ]
    }
   ],
   "source": [
    "import requests\n",
    "\n",
    "\n",
    "headers = {\n",
    "  \"Content-Type\": \"application/json\",\n",
    "  \"Authorization\": f\"Bearer {api_key}\"\n",
    "}\n",
    "\n",
    "payload = {\n",
    "  \"model\": \"gpt-4-vision-preview\",\n",
    "  \"messages\": [\n",
    "    {\n",
    "      \"role\": \"user\",\n",
    "      \"content\": [\n",
    "        {\n",
    "          \"type\": \"text\",\n",
    "          \"text\": \"What’s in this image?\"\n",
    "        },\n",
    "        {\n",
    "          \"type\": \"image_url\",\n",
    "          \"image_url\": {\n",
    "            #\"url\": f\"data:image/jpeg;base64,{base64_image}\"\n",
    "            \"url\": f\"data:image/jpeg;base64,{image_encode(image_path)}\",\n",
    "          }\n",
    "        }\n",
    "      ]\n",
    "    }\n",
    "  ],\n",
    "  \"max_tokens\": 300\n",
    "}\n",
    "response = requests.post(\"https://api.openai.com/v1/chat/completions\", headers=headers, json=payload)\n",
    "print(response.json())"
   ]
  },
  {
   "cell_type": "code",
   "execution_count": 25,
   "id": "6f925826-c279-470c-b5c3-662081899d7f",
   "metadata": {},
   "outputs": [
    {
     "data": {
      "text/plain": [
       "\"The image shows a can of Campbell's Tomato Soup. It is labeled as condensed soup, and we can see some nutritional information and a medal indicating an award from an international exposition dated 1900.\\n\""
      ]
     },
     "execution_count": 25,
     "metadata": {},
     "output_type": "execute_result"
    }
   ],
   "source": [
    "response.json()['choices'][0]['message']['content']"
   ]
  },
  {
   "cell_type": "code",
   "execution_count": null,
   "id": "4f15dcfe-f554-417a-ae27-71c27114ab4d",
   "metadata": {},
   "outputs": [],
   "source": []
  }
 ],
 "metadata": {
  "kernelspec": {
   "display_name": "dui",
   "language": "python",
   "name": "dui"
  },
  "language_info": {
   "codemirror_mode": {
    "name": "ipython",
    "version": 3
   },
   "file_extension": ".py",
   "mimetype": "text/x-python",
   "name": "python",
   "nbconvert_exporter": "python",
   "pygments_lexer": "ipython3",
   "version": "3.11.4"
  }
 },
 "nbformat": 4,
 "nbformat_minor": 5
}

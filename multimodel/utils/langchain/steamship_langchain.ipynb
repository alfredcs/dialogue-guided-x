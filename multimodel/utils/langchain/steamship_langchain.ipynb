{
 "cells": [
  {
   "cell_type": "markdown",
   "id": "596aae81-464e-4c1d-a447-b0016ceb9050",
   "metadata": {},
   "source": [
    "# Multi-modal outputs: Image & Text\n",
    "\n",
    "This notebook shows how non-text producing tools can be used to create multi-modal agents.\n",
    "\n",
    "This example is limited to text and image outputs and uses UUIDs to transfer content across tools and agents.\n",
    "\n",
    "This example uses Steamship to generate and store generated images. Generated are auth protected by default."
   ]
  },
  {
   "cell_type": "code",
   "execution_count": 2,
   "id": "7e06b306-b63e-48a8-9a8d-85a99567c97d",
   "metadata": {
    "collapsed": true,
    "jupyter": {
     "outputs_hidden": true
    },
    "tags": []
   },
   "outputs": [
    {
     "name": "stdout",
     "output_type": "stream",
     "text": [
      "\u001b[33mWARNING: Skipping /home/alfred/anaconda3/envs/dui/lib/python3.11/site-packages/stack_data-0.6.2.dist-info due to invalid metadata entry 'name'\u001b[0m\u001b[33m\n",
      "\u001b[0m\u001b[33mWARNING: Skipping /home/alfred/anaconda3/envs/dui/lib/python3.11/site-packages/prompt_toolkit-3.0.39.dist-info due to invalid metadata entry 'name'\u001b[0m\u001b[33m\n",
      "\u001b[0mCollecting steamship\n",
      "  Downloading steamship-2.17.21-py3-none-any.whl (216 kB)\n",
      "\u001b[2K     \u001b[90m━━━━━━━━━━━━━━━━━━━━━━━━━━━━━━━━━━━━━━━\u001b[0m \u001b[32m216.8/216.8 kB\u001b[0m \u001b[31m8.7 MB/s\u001b[0m eta \u001b[36m0:00:00\u001b[0m\n",
      "\u001b[?25hCollecting requests~=2.28.1 (from steamship)\n",
      "  Downloading requests-2.28.2-py3-none-any.whl (62 kB)\n",
      "\u001b[2K     \u001b[90m━━━━━━━━━━━━━━━━━━━━━━━━━━━━━━━━━━━━━━━━\u001b[0m \u001b[32m62.8/62.8 kB\u001b[0m \u001b[31m6.5 MB/s\u001b[0m eta \u001b[36m0:00:00\u001b[0m\n",
      "\u001b[?25hRequirement already satisfied: pydantic~=1.10.2 in /home/alfred/anaconda3/envs/dui/lib/python3.11/site-packages (from steamship) (1.10.11)\n",
      "Requirement already satisfied: aiohttp~=3.8.4 in /home/alfred/anaconda3/envs/dui/lib/python3.11/site-packages (from steamship) (3.8.5)\n",
      "Collecting inflection~=0.5.1 (from steamship)\n",
      "  Downloading inflection-0.5.1-py2.py3-none-any.whl (9.5 kB)\n",
      "Collecting fluent-logger~=0.10.0 (from steamship)\n",
      "  Downloading fluent_logger-0.10.0-py2.py3-none-any.whl (12 kB)\n",
      "Collecting toml~=0.10.2 (from steamship)\n",
      "  Downloading toml-0.10.2-py2.py3-none-any.whl (16 kB)\n",
      "Requirement already satisfied: click~=8.1.3 in /home/alfred/anaconda3/envs/dui/lib/python3.11/site-packages (from steamship) (8.1.6)\n",
      "Collecting semver~=3.0.0 (from steamship)\n",
      "  Downloading semver-3.0.1-py3-none-any.whl (17 kB)\n",
      "Collecting tiktoken~=0.3.3 (from steamship)\n",
      "  Downloading tiktoken-0.3.3-cp311-cp311-manylinux_2_17_x86_64.manylinux2014_x86_64.whl (1.7 MB)\n",
      "\u001b[2K     \u001b[90m━━━━━━━━━━━━━━━━━━━━━━━━━━━━━━━━━━━━━━━━\u001b[0m \u001b[32m1.7/1.7 MB\u001b[0m \u001b[31m14.2 MB/s\u001b[0m eta \u001b[36m0:00:00\u001b[0m:00:01\u001b[0m\n",
      "\u001b[?25hRequirement already satisfied: attrs>=17.3.0 in /home/alfred/anaconda3/envs/dui/lib/python3.11/site-packages (from aiohttp~=3.8.4->steamship) (23.1.0)\n",
      "Requirement already satisfied: charset-normalizer<4.0,>=2.0 in /home/alfred/anaconda3/envs/dui/lib/python3.11/site-packages (from aiohttp~=3.8.4->steamship) (2.0.4)\n",
      "Requirement already satisfied: multidict<7.0,>=4.5 in /home/alfred/anaconda3/envs/dui/lib/python3.11/site-packages (from aiohttp~=3.8.4->steamship) (6.0.4)\n",
      "Requirement already satisfied: async-timeout<5.0,>=4.0.0a3 in /home/alfred/anaconda3/envs/dui/lib/python3.11/site-packages (from aiohttp~=3.8.4->steamship) (4.0.2)\n",
      "Requirement already satisfied: yarl<2.0,>=1.0 in /home/alfred/anaconda3/envs/dui/lib/python3.11/site-packages (from aiohttp~=3.8.4->steamship) (1.9.2)\n",
      "Requirement already satisfied: frozenlist>=1.1.1 in /home/alfred/anaconda3/envs/dui/lib/python3.11/site-packages (from aiohttp~=3.8.4->steamship) (1.4.0)\n",
      "Requirement already satisfied: aiosignal>=1.1.2 in /home/alfred/anaconda3/envs/dui/lib/python3.11/site-packages (from aiohttp~=3.8.4->steamship) (1.3.1)\n",
      "Collecting msgpack>1.0 (from fluent-logger~=0.10.0->steamship)\n",
      "  Downloading msgpack-1.0.5-cp311-cp311-manylinux_2_17_x86_64.manylinux2014_x86_64.whl (325 kB)\n",
      "\u001b[2K     \u001b[90m━━━━━━━━━━━━━━━━━━━━━━━━━━━━━━━━━━━━━━\u001b[0m \u001b[32m325.1/325.1 kB\u001b[0m \u001b[31m65.5 MB/s\u001b[0m eta \u001b[36m0:00:00\u001b[0m\n",
      "\u001b[?25hRequirement already satisfied: typing-extensions>=4.2.0 in /home/alfred/anaconda3/envs/dui/lib/python3.11/site-packages (from pydantic~=1.10.2->steamship) (4.6.3)\n",
      "Requirement already satisfied: idna<4,>=2.5 in /home/alfred/anaconda3/envs/dui/lib/python3.11/site-packages (from requests~=2.28.1->steamship) (3.4)\n",
      "Requirement already satisfied: urllib3<1.27,>=1.21.1 in /home/alfred/anaconda3/envs/dui/lib/python3.11/site-packages (from requests~=2.28.1->steamship) (1.26.16)\n",
      "Requirement already satisfied: certifi>=2017.4.17 in /home/alfred/anaconda3/envs/dui/lib/python3.11/site-packages (from requests~=2.28.1->steamship) (2023.5.7)\n",
      "Requirement already satisfied: regex>=2022.1.18 in /home/alfred/anaconda3/envs/dui/lib/python3.11/site-packages (from tiktoken~=0.3.3->steamship) (2023.6.3)\n",
      "\u001b[33mWARNING: Skipping /home/alfred/anaconda3/envs/dui/lib/python3.11/site-packages/stack_data-0.6.2.dist-info due to invalid metadata entry 'name'\u001b[0m\u001b[33m\n",
      "\u001b[0m\u001b[33mWARNING: Skipping /home/alfred/anaconda3/envs/dui/lib/python3.11/site-packages/prompt_toolkit-3.0.39.dist-info due to invalid metadata entry 'name'\u001b[0m\u001b[33m\n",
      "\u001b[0mInstalling collected packages: msgpack, toml, semver, requests, inflection, fluent-logger, tiktoken, steamship\n",
      "  Attempting uninstall: requests\n",
      "    Found existing installation: requests 2.29.0\n",
      "    Uninstalling requests-2.29.0:\n",
      "      Successfully uninstalled requests-2.29.0\n",
      "\u001b[33mWARNING: Skipping /home/alfred/anaconda3/envs/dui/lib/python3.11/site-packages/stack_data-0.6.2.dist-info due to invalid metadata entry 'name'\u001b[0m\u001b[33m\n",
      "\u001b[0m\u001b[33mWARNING: Skipping /home/alfred/anaconda3/envs/dui/lib/python3.11/site-packages/prompt_toolkit-3.0.39.dist-info due to invalid metadata entry 'name'\u001b[0m\u001b[33m\n",
      "\u001b[0m\u001b[33mWARNING: Skipping /home/alfred/anaconda3/envs/dui/lib/python3.11/site-packages/stack_data-0.6.2.dist-info due to invalid metadata entry 'name'\u001b[0m\u001b[33m\n",
      "\u001b[0m\u001b[33mWARNING: Skipping /home/alfred/anaconda3/envs/dui/lib/python3.11/site-packages/prompt_toolkit-3.0.39.dist-info due to invalid metadata entry 'name'\u001b[0m\u001b[33m\n",
      "\u001b[0m\u001b[33mWARNING: Skipping /home/alfred/anaconda3/envs/dui/lib/python3.11/site-packages/stack_data-0.6.2.dist-info due to invalid metadata entry 'name'\u001b[0m\u001b[33m\n",
      "\u001b[0m\u001b[33mWARNING: Skipping /home/alfred/anaconda3/envs/dui/lib/python3.11/site-packages/prompt_toolkit-3.0.39.dist-info due to invalid metadata entry 'name'\u001b[0m\u001b[33m\n",
      "\u001b[0m\u001b[33mWARNING: Skipping /home/alfred/anaconda3/envs/dui/lib/python3.11/site-packages/stack_data-0.6.2.dist-info due to invalid metadata entry 'name'\u001b[0m\u001b[33m\n",
      "\u001b[0m\u001b[33mWARNING: Skipping /home/alfred/anaconda3/envs/dui/lib/python3.11/site-packages/prompt_toolkit-3.0.39.dist-info due to invalid metadata entry 'name'\u001b[0m\u001b[33m\n",
      "\u001b[0m\u001b[33mWARNING: Skipping /home/alfred/anaconda3/envs/dui/lib/python3.11/site-packages/stack_data-0.6.2.dist-info due to invalid metadata entry 'name'\u001b[0m\u001b[33m\n",
      "\u001b[0m\u001b[33mWARNING: Skipping /home/alfred/anaconda3/envs/dui/lib/python3.11/site-packages/prompt_toolkit-3.0.39.dist-info due to invalid metadata entry 'name'\u001b[0m\u001b[33m\n",
      "\u001b[0m\u001b[33mWARNING: Skipping /home/alfred/anaconda3/envs/dui/lib/python3.11/site-packages/stack_data-0.6.2.dist-info due to invalid metadata entry 'name'\u001b[0m\u001b[33m\n",
      "\u001b[0m\u001b[33mWARNING: Skipping /home/alfred/anaconda3/envs/dui/lib/python3.11/site-packages/prompt_toolkit-3.0.39.dist-info due to invalid metadata entry 'name'\u001b[0m\u001b[33m\n",
      "\u001b[0m\u001b[33mWARNING: Skipping /home/alfred/anaconda3/envs/dui/lib/python3.11/site-packages/stack_data-0.6.2.dist-info due to invalid metadata entry 'name'\u001b[0m\u001b[33m\n",
      "\u001b[0m\u001b[33mWARNING: Skipping /home/alfred/anaconda3/envs/dui/lib/python3.11/site-packages/prompt_toolkit-3.0.39.dist-info due to invalid metadata entry 'name'\u001b[0m\u001b[33m\n",
      "\u001b[0m\u001b[33mWARNING: Skipping /home/alfred/anaconda3/envs/dui/lib/python3.11/site-packages/stack_data-0.6.2.dist-info due to invalid metadata entry 'name'\u001b[0m\u001b[33m\n",
      "\u001b[0m\u001b[33mWARNING: Skipping /home/alfred/anaconda3/envs/dui/lib/python3.11/site-packages/prompt_toolkit-3.0.39.dist-info due to invalid metadata entry 'name'\u001b[0m\u001b[33m\n",
      "\u001b[0mSuccessfully installed fluent-logger-0.10.0 inflection-0.5.1 msgpack-1.0.5 requests-2.28.2 semver-3.0.1 steamship-2.17.21 tiktoken-0.3.3 toml-0.10.2\n"
     ]
    }
   ],
   "source": [
    "!pip install steamship"
   ]
  },
  {
   "cell_type": "code",
   "execution_count": 1,
   "id": "7d2a0e0f-d021-4afd-9b55-5a8691856b64",
   "metadata": {
    "tags": []
   },
   "outputs": [],
   "source": [
    "from steamship import Block, Steamship\n",
    "import re, os\n",
    "from IPython.display import Image"
   ]
  },
  {
   "cell_type": "code",
   "execution_count": 2,
   "id": "b0d1cb58-0fb5-4097-aa15-5a278d3f81ee",
   "metadata": {
    "tags": []
   },
   "outputs": [],
   "source": [
    "from langchain import OpenAI\n",
    "from langchain.agents import initialize_agent\n",
    "from langchain.agents import AgentType\n",
    "from langchain.tools import SteamshipImageGenerationTool"
   ]
  },
  {
   "cell_type": "code",
   "execution_count": 3,
   "id": "de2c7255-9b93-4697-b64b-380cbbff6d48",
   "metadata": {
    "tags": []
   },
   "outputs": [],
   "source": [
    "llm = OpenAI(temperature=0)"
   ]
  },
  {
   "cell_type": "code",
   "execution_count": 4,
   "id": "91cc29a7-043e-4ffa-950c-e39ff230caca",
   "metadata": {
    "tags": []
   },
   "outputs": [
    {
     "name": "stdout",
     "output_type": "stream",
     "text": [
      "1154CE96-8E10-487F-9277-A881934FF933\n"
     ]
    }
   ],
   "source": [
    "print(os.getenv(\"steamship_api_token\"))"
   ]
  },
  {
   "cell_type": "code",
   "execution_count": 5,
   "id": "435b0848-8221-445c-b409-57a2f335778e",
   "metadata": {
    "tags": []
   },
   "outputs": [
    {
     "data": {
      "text/plain": [
       "Steamship(config=Configuration(api_key=SecretStr('**********'), api_base='https://api.steamship.com/api/v1/', app_base='https://steamship.run/', web_base='https://steamship.com/', workspace_id='CBFE854A-1FC2-466B-8AD5-68E44C4EF5EF', workspace_handle='default', profile=None))"
      ]
     },
     "execution_count": 5,
     "metadata": {},
     "output_type": "execute_result"
    }
   ],
   "source": [
    "Steamship(api_key='1154CE96-8E10-487F-9277-A881934FF933')"
   ]
  },
  {
   "cell_type": "markdown",
   "id": "f48ce8d0-d503-432e-bb47-32dae9a4daa7",
   "metadata": {},
   "source": [
    "## Using Stable Difusion"
   ]
  },
  {
   "cell_type": "code",
   "execution_count": 6,
   "id": "3ffa7a38-a035-41bf-83cb-23f06481408a",
   "metadata": {
    "tags": []
   },
   "outputs": [
    {
     "ename": "ValidationError",
     "evalue": "1 validation error for SteamshipImageGenerationTool\n__root__\n  Did not find steamship_api_key, please add an environment variable `STEAMSHIP_API_KEY` which contains it, or pass  `steamship_api_key` as a named parameter. (type=value_error)",
     "output_type": "error",
     "traceback": [
      "\u001b[0;31m---------------------------------------------------------------------------\u001b[0m",
      "\u001b[0;31mValidationError\u001b[0m                           Traceback (most recent call last)",
      "Cell \u001b[0;32mIn[6], line 1\u001b[0m\n\u001b[0;32m----> 1\u001b[0m tools \u001b[38;5;241m=\u001b[39m [SteamshipImageGenerationTool(model_name\u001b[38;5;241m=\u001b[39m\u001b[38;5;124m\"\u001b[39m\u001b[38;5;124mstable-diffusion\u001b[39m\u001b[38;5;124m\"\u001b[39m)]\n",
      "File \u001b[0;32m~/anaconda3/envs/dui/lib/python3.11/site-packages/pydantic/main.py:341\u001b[0m, in \u001b[0;36mpydantic.main.BaseModel.__init__\u001b[0;34m()\u001b[0m\n",
      "\u001b[0;31mValidationError\u001b[0m: 1 validation error for SteamshipImageGenerationTool\n__root__\n  Did not find steamship_api_key, please add an environment variable `STEAMSHIP_API_KEY` which contains it, or pass  `steamship_api_key` as a named parameter. (type=value_error)"
     ]
    }
   ],
   "source": [
    "tools = [SteamshipImageGenerationTool(model_name=\"stable-diffusion\")]"
   ]
  },
  {
   "cell_type": "code",
   "execution_count": 7,
   "id": "0a01d326-af2d-404e-a948-2fbf2effd623",
   "metadata": {
    "tags": []
   },
   "outputs": [
    {
     "ename": "NameError",
     "evalue": "name 'tools' is not defined",
     "output_type": "error",
     "traceback": [
      "\u001b[0;31m---------------------------------------------------------------------------\u001b[0m",
      "\u001b[0;31mNameError\u001b[0m                                 Traceback (most recent call last)",
      "Cell \u001b[0;32mIn[7], line 2\u001b[0m\n\u001b[1;32m      1\u001b[0m mrkl \u001b[38;5;241m=\u001b[39m initialize_agent(\n\u001b[0;32m----> 2\u001b[0m     tools, llm, agent\u001b[38;5;241m=\u001b[39mAgentType\u001b[38;5;241m.\u001b[39mZERO_SHOT_REACT_DESCRIPTION, verbose\u001b[38;5;241m=\u001b[39m\u001b[38;5;28;01mTrue\u001b[39;00m\n\u001b[1;32m      3\u001b[0m )\n",
      "\u001b[0;31mNameError\u001b[0m: name 'tools' is not defined"
     ]
    }
   ],
   "source": [
    "mrkl = initialize_agent(\n",
    "    tools, llm, agent=AgentType.ZERO_SHOT_REACT_DESCRIPTION, verbose=True\n",
    ")"
   ]
  },
  {
   "cell_type": "code",
   "execution_count": null,
   "id": "181700f1-ad90-47ef-8813-cf1aa7863c4d",
   "metadata": {},
   "outputs": [],
   "source": [
    "output = mrkl.run(\"How would you visualize a parot playing soccer?\")"
   ]
  }
 ],
 "metadata": {
  "kernelspec": {
   "display_name": "dui",
   "language": "python",
   "name": "dui"
  },
  "language_info": {
   "codemirror_mode": {
    "name": "ipython",
    "version": 3
   },
   "file_extension": ".py",
   "mimetype": "text/x-python",
   "name": "python",
   "nbconvert_exporter": "python",
   "pygments_lexer": "ipython3",
   "version": "3.11.4"
  }
 },
 "nbformat": 4,
 "nbformat_minor": 5
}
